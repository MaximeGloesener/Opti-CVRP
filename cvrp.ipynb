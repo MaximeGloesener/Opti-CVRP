{
 "cells": [
  {
   "cell_type": "code",
   "execution_count": 2,
   "id": "cbea4958",
   "metadata": {},
   "outputs": [],
   "source": [
    "import random\n",
    "import matplotlib.pyplot as plt\n",
    "import numpy as np\n",
    "from docplex.mp.model import Model"
   ]
  },
  {
   "cell_type": "markdown",
   "id": "75d42e0c",
   "metadata": {},
   "source": [
    "Définition des paramètres"
   ]
  },
  {
   "cell_type": "code",
   "execution_count": 3,
   "id": "b7b67e44",
   "metadata": {},
   "outputs": [],
   "source": [
    "capacité = 100 # capacité de la camionnette du marchand de poisson\n",
    "nclients = 20 # nombre de clients \n",
    "nmagasins = 3 # nombre d'emplacements possibles pour les dépôts\n",
    "lbdemande = 5 # borne inférieure pour la quantité demandée par les clients\n",
    "ubdemande = 25 # borne supérieure pour la quantité demandée par les clients"
   ]
  },
  {
   "cell_type": "markdown",
   "id": "f30d3b94",
   "metadata": {},
   "source": [
    "Génération des données aléatoires"
   ]
  },
  {
   "cell_type": "code",
   "execution_count": 5,
   "id": "3596fe8c",
   "metadata": {},
   "outputs": [
    {
     "name": "stdout",
     "output_type": "stream",
     "text": [
      "{3: 7, 4: 16, 5: 18, 6: 8, 7: 15, 8: 22, 9: 21, 10: 6, 11: 6, 12: 13, 13: 9, 14: 19, 15: 6, 16: 25, 17: 22, 18: 21, 19: 12, 20: 24, 21: 14, 22: 23}\n"
     ]
    }
   ],
   "source": [
    "# fixer le seed du random pour toujours avoir les mêmes données \n",
    "random.seed(49)\n",
    "# numéro des clients  \n",
    "N = [int(i) for i in range(nmagasins, nclients+nmagasins)]\n",
    "# graphe V qui reprend les noeuds des emplacements + les noeuds des clients \n",
    "V = [i for i in range(nmagasins)] + N \n",
    "# génération aléatoire des quantités pour chaque client / dictionnaire : clé = numéro client, valeur = quantitié demandée \n",
    "demandes = {i:random.randint(lbdemande,ubdemande) for i in N}\n",
    "# génération des coordonnées aléatoires des clients  \n",
    "clients = [(random.randint(0,30),random.randint(0,30)) for _ in range(nclients)]\n",
    "# génération des coordonnées aléatoires des magasins \n",
    "magasins = [(random.randint(0,30), random.randint(0,30)) for _ in range(nmagasins)] "
   ]
  },
  {
   "cell_type": "markdown",
   "id": "e88bf51b",
   "metadata": {},
   "source": [
    "Affichage des clients avec la quantité demandée et des emplacements possibles des dépôts"
   ]
  },
  {
   "cell_type": "code",
   "execution_count": 6,
   "id": "66c65ff7",
   "metadata": {},
   "outputs": [
    {
     "data": {
      "image/png": "[encoded data removed]",
      "text/plain": [
       "<Figure size 432x288 with 1 Axes>"
      ]
     },
     "metadata": {
      "needs_background": "light"
     },
     "output_type": "display_data"
    }
   ],
   "source": [
    "fig, ax = plt.subplots()\n",
    "# clients axe x et axe y\n",
    "xclients, yclients = [client[0] for client in clients],[client[1] for client in clients]\n",
    "# magasin axe x et axe y\n",
    "xmagasins, ymagasins = [magasin[0] for magasin in magasins], [magasin[1] for magasin in magasins]\n",
    "ax.scatter(xclients, yclients) \n",
    "ax.scatter(xmagasins, ymagasins)\n",
    "for i, q in enumerate(demandes.values()):\n",
    "    ax.annotate(f' c{i+nmagasins+1} = {q}', (xclients[i],yclients[i]))\n",
    "for i in range(nmagasins):\n",
    "    ax.annotate(f'm{i}', (xmagasins[i],ymagasins[i]))\n",
    "plt.show()"
   ]
  },
  {
   "cell_type": "markdown",
   "id": "c34de49b",
   "metadata": {},
   "source": [
    "Définition du modèle"
   ]
  },
  {
   "cell_type": "code",
   "execution_count": 217,
   "id": "ee829147",
   "metadata": {},
   "outputs": [],
   "source": [
    "def ModelInit(arcs, capacité, demandes, distances, N, nmagasins):\n",
    "    model = Model('CVRP')\n",
    "    x = model.binary_var_dict(arcs, name = 'x') # variable binaire pour les arcs -> 0 ou 1 en fonction de si on le prend ou pas\n",
    "    u = model.continuous_var_dict(N, ub = capacité, name = 'u') # ub = upperbound = capacité camionnette\n",
    "    model.minimize(model.sum(distances[i,j]*x[i,j] for i,j in arcs)) # fct objectif = minimiser la distance entre les arcs qui sont pris\n",
    "    model.add_constraints(model.sum(x[i,j] for j in V if j!=i) == 1 for i in N) # graphe connexe, tous les arcs doivent être liés\n",
    "    model.add_constraints(model.sum(x[i,j] for i in V if i!=j) == 1 for j in N)\n",
    "    model.add_indicator_constraints(model.indicator_constraint(x[i, j], u[i]+demandes[j] == u[j]) for i, j in arcs if (i not in range(nmagasins) and j not in range(nmagasins)))\n",
    "    model.add_constraints(u[i] >= demandes[i] for i in N)\n",
    "    # model.parameters.timelimit = 60\n",
    "    return model\n",
    "  "
   ]
  },
  {
   "cell_type": "code",
   "execution_count": 218,
   "id": "2cd711a0",
   "metadata": {},
   "outputs": [],
   "source": [
    "def solver(model):\n",
    "    return model.solve(log_output = False)"
   ]
  },
  {
   "cell_type": "markdown",
   "id": "43130b5f",
   "metadata": {},
   "source": [
    "Définition des arcs d'un noeud i à un noeud j et calcul de distance pour chaque arc"
   ]
  },
  {
   "cell_type": "code",
   "execution_count": 8,
   "id": "cb30e4e6",
   "metadata": {},
   "outputs": [
    {
     "name": "stdout",
     "output_type": "stream",
     "text": [
      "[(0, 3), (0, 4), (0, 5), (0, 6), (0, 7), (0, 8), (0, 9), (0, 10), (0, 11), (0, 12), (0, 13), (0, 14), (0, 15), (0, 16), (0, 17), (0, 18), (0, 19), (0, 20), (0, 21), (0, 22), (1, 3), (1, 4), (1, 5), (1, 6), (1, 7), (1, 8), (1, 9), (1, 10), (1, 11), (1, 12), (1, 13), (1, 14), (1, 15), (1, 16), (1, 17), (1, 18), (1, 19), (1, 20), (1, 21), (1, 22), (2, 3), (2, 4), (2, 5), (2, 6), (2, 7), (2, 8), (2, 9), (2, 10), (2, 11), (2, 12), (2, 13), (2, 14), (2, 15), (2, 16), (2, 17), (2, 18), (2, 19), (2, 20), (2, 21), (2, 22), (3, 0), (3, 1), (3, 2), (3, 3), (3, 4), (3, 5), (3, 6), (3, 7), (3, 8), (3, 9), (3, 10), (3, 11), (3, 12), (3, 13), (3, 14), (3, 15), (3, 16), (3, 17), (3, 18), (3, 19), (3, 20), (3, 21), (3, 22), (4, 0), (4, 1), (4, 2), (4, 3), (4, 4), (4, 5), (4, 6), (4, 7), (4, 8), (4, 9), (4, 10), (4, 11), (4, 12), (4, 13), (4, 14), (4, 15), (4, 16), (4, 17), (4, 18), (4, 19), (4, 20), (4, 21), (4, 22), (5, 0), (5, 1), (5, 2), (5, 3), (5, 4), (5, 5), (5, 6), (5, 7), (5, 8), (5, 9), (5, 10), (5, 11), (5, 12), (5, 13), (5, 14), (5, 15), (5, 16), (5, 17), (5, 18), (5, 19), (5, 20), (5, 21), (5, 22), (6, 0), (6, 1), (6, 2), (6, 3), (6, 4), (6, 5), (6, 6), (6, 7), (6, 8), (6, 9), (6, 10), (6, 11), (6, 12), (6, 13), (6, 14), (6, 15), (6, 16), (6, 17), (6, 18), (6, 19), (6, 20), (6, 21), (6, 22), (7, 0), (7, 1), (7, 2), (7, 3), (7, 4), (7, 5), (7, 6), (7, 7), (7, 8), (7, 9), (7, 10), (7, 11), (7, 12), (7, 13), (7, 14), (7, 15), (7, 16), (7, 17), (7, 18), (7, 19), (7, 20), (7, 21), (7, 22), (8, 0), (8, 1), (8, 2), (8, 3), (8, 4), (8, 5), (8, 6), (8, 7), (8, 8), (8, 9), (8, 10), (8, 11), (8, 12), (8, 13), (8, 14), (8, 15), (8, 16), (8, 17), (8, 18), (8, 19), (8, 20), (8, 21), (8, 22), (9, 0), (9, 1), (9, 2), (9, 3), (9, 4), (9, 5), (9, 6), (9, 7), (9, 8), (9, 9), (9, 10), (9, 11), (9, 12), (9, 13), (9, 14), (9, 15), (9, 16), (9, 17), (9, 18), (9, 19), (9, 20), (9, 21), (9, 22), (10, 0), (10, 1), (10, 2), (10, 3), (10, 4), (10, 5), (10, 6), (10, 7), (10, 8), (10, 9), (10, 10), (10, 11), (10, 12), (10, 13), (10, 14), (10, 15), (10, 16), (10, 17), (10, 18), (10, 19), (10, 20), (10, 21), (10, 22), (11, 0), (11, 1), (11, 2), (11, 3), (11, 4), (11, 5), (11, 6), (11, 7), (11, 8), (11, 9), (11, 10), (11, 11), (11, 12), (11, 13), (11, 14), (11, 15), (11, 16), (11, 17), (11, 18), (11, 19), (11, 20), (11, 21), (11, 22), (12, 0), (12, 1), (12, 2), (12, 3), (12, 4), (12, 5), (12, 6), (12, 7), (12, 8), (12, 9), (12, 10), (12, 11), (12, 12), (12, 13), (12, 14), (12, 15), (12, 16), (12, 17), (12, 18), (12, 19), (12, 20), (12, 21), (12, 22), (13, 0), (13, 1), (13, 2), (13, 3), (13, 4), (13, 5), (13, 6), (13, 7), (13, 8), (13, 9), (13, 10), (13, 11), (13, 12), (13, 13), (13, 14), (13, 15), (13, 16), (13, 17), (13, 18), (13, 19), (13, 20), (13, 21), (13, 22), (14, 0), (14, 1), (14, 2), (14, 3), (14, 4), (14, 5), (14, 6), (14, 7), (14, 8), (14, 9), (14, 10), (14, 11), (14, 12), (14, 13), (14, 14), (14, 15), (14, 16), (14, 17), (14, 18), (14, 19), (14, 20), (14, 21), (14, 22), (15, 0), (15, 1), (15, 2), (15, 3), (15, 4), (15, 5), (15, 6), (15, 7), (15, 8), (15, 9), (15, 10), (15, 11), (15, 12), (15, 13), (15, 14), (15, 15), (15, 16), (15, 17), (15, 18), (15, 19), (15, 20), (15, 21), (15, 22), (16, 0), (16, 1), (16, 2), (16, 3), (16, 4), (16, 5), (16, 6), (16, 7), (16, 8), (16, 9), (16, 10), (16, 11), (16, 12), (16, 13), (16, 14), (16, 15), (16, 16), (16, 17), (16, 18), (16, 19), (16, 20), (16, 21), (16, 22), (17, 0), (17, 1), (17, 2), (17, 3), (17, 4), (17, 5), (17, 6), (17, 7), (17, 8), (17, 9), (17, 10), (17, 11), (17, 12), (17, 13), (17, 14), (17, 15), (17, 16), (17, 17), (17, 18), (17, 19), (17, 20), (17, 21), (17, 22), (18, 0), (18, 1), (18, 2), (18, 3), (18, 4), (18, 5), (18, 6), (18, 7), (18, 8), (18, 9), (18, 10), (18, 11), (18, 12), (18, 13), (18, 14), (18, 15), (18, 16), (18, 17), (18, 18), (18, 19), (18, 20), (18, 21), (18, 22), (19, 0), (19, 1), (19, 2), (19, 3), (19, 4), (19, 5), (19, 6), (19, 7), (19, 8), (19, 9), (19, 10), (19, 11), (19, 12), (19, 13), (19, 14), (19, 15), (19, 16), (19, 17), (19, 18), (19, 19), (19, 20), (19, 21), (19, 22), (20, 0), (20, 1), (20, 2), (20, 3), (20, 4), (20, 5), (20, 6), (20, 7), (20, 8), (20, 9), (20, 10), (20, 11), (20, 12), (20, 13), (20, 14), (20, 15), (20, 16), (20, 17), (20, 18), (20, 19), (20, 20), (20, 21), (20, 22), (21, 0), (21, 1), (21, 2), (21, 3), (21, 4), (21, 5), (21, 6), (21, 7), (21, 8), (21, 9), (21, 10), (21, 11), (21, 12), (21, 13), (21, 14), (21, 15), (21, 16), (21, 17), (21, 18), (21, 19), (21, 20), (21, 21), (21, 22), (22, 0), (22, 1), (22, 2), (22, 3), (22, 4), (22, 5), (22, 6), (22, 7), (22, 8), (22, 9), (22, 10), (22, 11), (22, 12), (22, 13), (22, 14), (22, 15), (22, 16), (22, 17), (22, 18), (22, 19), (22, 20), (22, 21), (22, 22)]\n",
      "range(0, 3)\n"
     ]
    },
    {
     "ename": "NameError",
     "evalue": "name 'ModelInit' is not defined",
     "output_type": "error",
     "traceback": [
      "\u001b[1;31m---------------------------------------------------------------------------\u001b[0m",
      "\u001b[1;31mNameError\u001b[0m                                 Traceback (most recent call last)",
      "\u001b[1;32m~\\AppData\\Local\\Temp/ipykernel_15912/2052022976.py\u001b[0m in \u001b[0;36m<module>\u001b[1;34m\u001b[0m\n\u001b[0;32m     10\u001b[0m \u001b[0mdists\u001b[0m \u001b[1;33m=\u001b[0m \u001b[1;33m{\u001b[0m\u001b[1;33m(\u001b[0m\u001b[0mi\u001b[0m\u001b[1;33m,\u001b[0m\u001b[0mj\u001b[0m\u001b[1;33m)\u001b[0m\u001b[1;33m:\u001b[0m \u001b[0mnp\u001b[0m\u001b[1;33m.\u001b[0m\u001b[0mhypot\u001b[0m\u001b[1;33m(\u001b[0m\u001b[0mxtot\u001b[0m\u001b[1;33m[\u001b[0m\u001b[0mi\u001b[0m\u001b[1;33m]\u001b[0m\u001b[1;33m-\u001b[0m\u001b[0mxtot\u001b[0m\u001b[1;33m[\u001b[0m\u001b[0mj\u001b[0m\u001b[1;33m]\u001b[0m\u001b[1;33m,\u001b[0m\u001b[0mytot\u001b[0m\u001b[1;33m[\u001b[0m\u001b[0mi\u001b[0m\u001b[1;33m]\u001b[0m\u001b[1;33m-\u001b[0m\u001b[0mytot\u001b[0m\u001b[1;33m[\u001b[0m\u001b[0mj\u001b[0m\u001b[1;33m]\u001b[0m\u001b[1;33m)\u001b[0m \u001b[1;32mfor\u001b[0m \u001b[0mi\u001b[0m\u001b[1;33m,\u001b[0m\u001b[0mj\u001b[0m \u001b[1;32min\u001b[0m \u001b[0marcs\u001b[0m\u001b[1;33m}\u001b[0m\u001b[1;33m\u001b[0m\u001b[1;33m\u001b[0m\u001b[0m\n\u001b[0;32m     11\u001b[0m \u001b[1;33m\u001b[0m\u001b[0m\n\u001b[1;32m---> 12\u001b[1;33m \u001b[0mmodel2\u001b[0m \u001b[1;33m=\u001b[0m \u001b[0mModelInit\u001b[0m\u001b[1;33m(\u001b[0m\u001b[0marcs\u001b[0m\u001b[1;33m,\u001b[0m \u001b[0mcapacité\u001b[0m\u001b[1;33m,\u001b[0m \u001b[0mdemandes\u001b[0m\u001b[1;33m,\u001b[0m \u001b[0mdists\u001b[0m\u001b[1;33m,\u001b[0m \u001b[0mN\u001b[0m\u001b[1;33m,\u001b[0m \u001b[0mnmagasins\u001b[0m\u001b[1;33m)\u001b[0m\u001b[1;33m\u001b[0m\u001b[1;33m\u001b[0m\u001b[0m\n\u001b[0m\u001b[0;32m     13\u001b[0m \u001b[0msolution2\u001b[0m \u001b[1;33m=\u001b[0m \u001b[0msolver\u001b[0m\u001b[1;33m(\u001b[0m\u001b[0mmodel2\u001b[0m\u001b[1;33m)\u001b[0m\u001b[1;33m\u001b[0m\u001b[1;33m\u001b[0m\u001b[0m\n\u001b[0;32m     14\u001b[0m \u001b[0mvalue\u001b[0m \u001b[1;33m=\u001b[0m \u001b[0msolution2\u001b[0m\u001b[1;33m.\u001b[0m\u001b[0mobjective_value\u001b[0m\u001b[1;33m\u001b[0m\u001b[1;33m\u001b[0m\u001b[0m\n",
      "\u001b[1;31mNameError\u001b[0m: name 'ModelInit' is not defined"
     ]
    }
   ],
   "source": [
    "best_value = 10**10\n",
    "best_magasin = None\n",
    "best_solution = None\n",
    "\n",
    "# coordonnées x et y des clients et magasins \n",
    "xtot, ytot = xclients + xmagasins, yclients + ymagasins\n",
    "\n",
    "# initialisation des arcs du graphe -> on veut éviter d'avoir un arc d'un noeud vers lui même (i != j) et d'un dépôt vers un autre dépôt\n",
    "arcs = [(i,j) for i in V for j in V if (i not in range(nmagasins) or j not in range(nmagasins) and i != j)]\n",
    "\n",
    "# calcul des distances entre les clients et les magasins -> pour chaque arc, on obtient une distance euclidienne\n",
    "dists = {(i,j): np.hypot(xtot[i]-xtot[j],ytot[i]-ytot[j]) for i,j in arcs}\n",
    "\n",
    "model2 = ModelInit(arcs, capacité, demandes, dists, N, nmagasins)\n",
    "solution2 = solver(model2)\n",
    "value = solution2.objective_value\n",
    "print(f'La plus petite distance à parcourir est {value}')"
   ]
  },
  {
   "cell_type": "code",
   "execution_count": null,
   "id": "9f25f0da",
   "metadata": {},
   "outputs": [
    {
     "data": {
      "text/plain": [
       "\"best_value = 10**10\\nbest_magasin = None\\nbest_solution = None\\nfor magasin in range(nmagasins):\\n    xtot, ytot = add_magasin(xm[magasin],ym[magasin],xc,yc)\\n    arcs = [(i,j) for i in V for j in V if i!=j]\\n    distances = {(i,j): np.hypot(xtot[i]-xtot[j],ytot[i]-ytot[j]) for i,j in arcs}\\n    model = ModelInit(arcs, capacité, demandes, distances, N)\\n    solution = solver(model)\\n    value = solution.objective_value\\n    if value < best_value:\\n        best_value = value \\n        best_magasin = magasin\\n        best_solution = solution\\nprint(f'La plus petite distance à parcourir est {best_value}')\\nprint(f'Le numéro du meilleur emplacement pour le magasin est {best_magasin}')\""
      ]
     },
     "execution_count": 197,
     "metadata": {},
     "output_type": "execute_result"
    }
   ],
   "source": [
    "\"\"\"best_value = 10**10\n",
    "best_magasin = None\n",
    "best_solution = None\n",
    "for magasin in range(nmagasins):\n",
    "    xtot, ytot = add_magasin(xm[magasin],ym[magasin],xc,yc)\n",
    "    arcs = [(i,j) for i in V for j in V if i!=j]\n",
    "    distances = {(i,j): np.hypot(xtot[i]-xtot[j],ytot[i]-ytot[j]) for i,j in arcs}\n",
    "    model = ModelInit(arcs, capacité, demandes, distances, N)\n",
    "    solution = solver(model)\n",
    "    value = solution.objective_value\n",
    "    if value < best_value:\n",
    "        best_value = value \n",
    "        best_magasin = magasin\n",
    "        best_solution = solution\n",
    "print(f'La plus petite distance à parcourir est {best_value}')\n",
    "print(f'Le numéro du meilleur emplacement pour le magasin est {best_magasin}')\"\"\""
   ]
  },
  {
   "cell_type": "code",
   "execution_count": null,
   "id": "6691a2fd",
   "metadata": {},
   "outputs": [],
   "source": [
    "arcs_actifs = []\n",
    "for val in (model2.iter_binary_vars()):\n",
    "    if val.solution_value > 0.95:\n",
    "        v = val.name.split('_')\n",
    "        arcs_actifs.append((int(v[1]),int(v[2])))"
   ]
  },
  {
   "cell_type": "code",
   "execution_count": null,
   "id": "c0867fbe",
   "metadata": {},
   "outputs": [
    {
     "data": {
      "image/png": "[encoded data removed]",
      "text/plain": [
       "<Figure size 432x288 with 1 Axes>"
      ]
     },
     "metadata": {
      "needs_background": "light"
     },
     "output_type": "display_data"
    }
   ],
   "source": [
    "fig, ax = plt.subplots() \n",
    "ax.scatter(xc[nmagasins:],yc[nmagasins:]) # affichage des clients  \n",
    "for i in N:\n",
    "    plt.annotate(f' w={demandes[i]}', (xc[i], yc[i]))\n",
    "for i in range(nmagasins):\n",
    "    xc[i],yc[i] = xm[i],ym[i]\n",
    "    plt.plot(xm[i],ym[i], c='r', marker='s') # affichage des magasins\n",
    "for i,j in arcs_actifs:\n",
    "     plt.plot([xc[i], xc[j]], [yc[i], yc[j]], c='g', alpha=0.3)\n",
    "plt.show()"
   ]
  }
 ],
 "metadata": {
  "kernelspec": {
   "display_name": "Python 3.9.1 64-bit",
   "language": "python",
   "name": "python3"
  },
  "language_info": {
   "codemirror_mode": {
    "name": "ipython",
    "version": 3
   },
   "file_extension": ".py",
   "mimetype": "text/x-python",
   "name": "python",
   "nbconvert_exporter": "python",
   "pygments_lexer": "ipython3",
   "version": "3.9.1"
  },
  "vscode": {
   "interpreter": {
    "hash": "124860c735baad30d0d0699d1d1002dff43b098acb5cf5aad4b313f34f566040"
   }
  }
 },
 "nbformat": 4,
 "nbformat_minor": 5
}
