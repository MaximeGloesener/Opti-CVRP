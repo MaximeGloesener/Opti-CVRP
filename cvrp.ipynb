{
 "cells": [
  {
   "cell_type": "code",
   "execution_count": 499,
   "id": "14cddb9a",
   "metadata": {},
   "outputs": [],
   "source": [
    "import random\n",
    "import matplotlib.pyplot as plt\n",
    "import numpy as np\n",
    "from docplex.mp.model import Model"
   ]
  },
  {
   "cell_type": "markdown",
   "id": "6afa117f",
   "metadata": {},
   "source": [
    "Définitions des paramètres "
   ]
  },
  {
   "cell_type": "code",
   "execution_count": 500,
   "id": "67aa557d",
   "metadata": {},
   "outputs": [],
   "source": [
    "capacité = 100 # capacité de la camionnette du marchand de poisson\n",
    "nclients = 15 # nombre de clients \n",
    "nmagasins = 2 # nombre d'endroits possibles pour le magasin"
   ]
  },
  {
   "cell_type": "code",
   "execution_count": 501,
   "id": "69f706ab",
   "metadata": {},
   "outputs": [],
   "source": [
    "random.seed(49) # fixer le seed du random pour toujours avoir les mêmes données \n",
    "N = [int(i) for i in range(2, nclients+2)] # numéro des clients (nom)\n",
    "V = [0,1] + N # noeuds = clients / noeud 0 = magasin\n",
    "demandes = {i:random.randint(5,25) for i in N} # génération des quantités pour chaque client \n",
    "clients = [(random.randint(0,30),random.randint(0,30)) for _ in range(nclients)] # génération des coordonnées aléatoires des clients \n",
    "magasins = [(random.randint(0,30), random.randint(0,30)) for _ in range(nmagasins)] # génération des coordonnées aléatoires des magasins"
   ]
  },
  {
   "cell_type": "code",
   "execution_count": 502,
   "id": "fe0fa9cb",
   "metadata": {},
   "outputs": [],
   "source": [
    "xc = [0,0] + [d[0] for d in clients] # axe x clients \n",
    "yc = [0,0] + [d[1] for d in clients] # axe y clients \n",
    "xm = [d[0] for d in magasins] # axe x magasins \n",
    "ym = [d[1] for d in magasins] # axe y magasin"
   ]
  },
  {
   "cell_type": "code",
   "execution_count": 503,
   "id": "445e0c0f",
   "metadata": {},
   "outputs": [],
   "source": [
    "def add_magasin(x,y,x2,y2,cx,cy):\n",
    "    cx[0] = x\n",
    "    cy[0] = y\n",
    "    cx[1] = x2\n",
    "    cy[1] = y2\n",
    "    return cx,cy"
   ]
  },
  {
   "cell_type": "markdown",
   "id": "30a93f2d",
   "metadata": {},
   "source": [
    "Plot des emplacements des clients (annoté de taille de demande) et des endroits possible pour les magasins"
   ]
  },
  {
   "cell_type": "code",
   "execution_count": 504,
   "id": "4fd90e23",
   "metadata": {},
   "outputs": [
    {
     "data": {
      "image/png": "[encoded data removed]",
      "text/plain": [
       "<Figure size 432x288 with 1 Axes>"
      ]
     },
     "metadata": {
      "needs_background": "light"
     },
     "output_type": "display_data"
    }
   ],
   "source": [
    "fig, ax = plt.subplots() \n",
    "ax.scatter(xc[1:],yc[1:])\n",
    "ax.scatter(xm,ym)\n",
    "for i, q in enumerate(demandes.values()):\n",
    "    ax.annotate(f' c{i+1} = {q}', (xc[i+1],yc[i+1]))\n",
    "for i in range(nmagasins):\n",
    "    ax.annotate(f'm{i}', (xm[i],ym[i]))\n",
    "plt.show()"
   ]
  },
  {
   "cell_type": "code",
   "execution_count": 505,
   "id": "4f77fda9",
   "metadata": {},
   "outputs": [],
   "source": [
    "def ModelInit(arcs, capacité, demandes, distances, N):\n",
    "    model = Model('CVRP')\n",
    "    x = model.binary_var_dict(arcs, name = 'x') # variable binaire pour les arcs -> 0 ou 1 en fonction de si on le prend ou pas\n",
    "    u = model.continuous_var_dict(N, ub = capacité, name = 'u') # ub = upperbound = capacité camionnette\n",
    "    print(distances)\n",
    "    model.minimize(model.sum(distances[i,j]*x[i,j] for i,j in arcs)) # fct objectif = minimiser la distance entre les arcs qui sont pris\n",
    "    model.add_constraints(model.sum(x[i,j] for j in V if j!=i) == 1 for i in N) # graphe connexe, tous les arcs doivent être liés\n",
    "    model.add_constraints(model.sum(x[i,j] for i in V if i!=j) == 1 for j in N)\n",
    "    model.add_indicator_constraints(model.indicator_constraint(x[i, j], u[i]+demandes[j] == u[j]) for i, j in arcs if i != 0 and j != 0)\n",
    "    model.add_constraints(u[i] >= demandes[i] for i in N)\n",
    "    model.parameters.timelimit = 60\n",
    "    return model\n",
    "  "
   ]
  },
  {
   "cell_type": "code",
   "execution_count": 506,
   "id": "39ec4570",
   "metadata": {},
   "outputs": [],
   "source": [
    "def ModelInit2(arcs, capacité, demandes, distances, N):\n",
    "    model = Model('CVRP')\n",
    "    x = model.binary_var_dict(arcs, name = 'x') # variable binaire pour les arcs -> 0 ou 1 en fonction de si on le prend ou pas\n",
    "    u = model.continuous_var_dict(N, ub = capacité, name = 'u') # ub = upperbound = capacité camionnette\n",
    "    model.minimize(model.sum(distances[i,j]*x[i,j] for i,j in arcs)) # fct objectif = minimiser la distance entre les arcs qui sont pris\n",
    "    model.add_constraints(model.sum(x[i,j] for j in V if j!=i) == 1 for i in N) # graphe connexe, tous les arcs doivent être liés\n",
    "    model.add_constraints(model.sum(x[i,j] for i in V if i!=j) == 1 for j in N)\n",
    "    model.add_indicator_constraints(model.indicator_constraint(x[i, j], u[i]+demandes[j] == u[j]) for i, j in arcs if (i != 0 and j != 0) and (i!=1 and j!=1))\n",
    "    model.add_constraints(u[i] >= demandes[i] for i in N)\n",
    "    # model.parameters.timelimit = 60\n",
    "    return model\n",
    "  "
   ]
  },
  {
   "cell_type": "code",
   "execution_count": 507,
   "id": "939dad81",
   "metadata": {},
   "outputs": [],
   "source": [
    "def solver(model):\n",
    "    return model.solve(log_output = False)"
   ]
  },
  {
   "cell_type": "markdown",
   "id": "c899190e",
   "metadata": {},
   "source": [
    "Définition des arcs d'un noeud i à un noeud j et calcul de distance pour chaque arc"
   ]
  },
  {
   "cell_type": "code",
   "execution_count": 508,
   "id": "602a2c70",
   "metadata": {},
   "outputs": [
    {
     "name": "stdout",
     "output_type": "stream",
     "text": [
      "La plus petite distance à parcourir est 126.29769852283587\n"
     ]
    }
   ],
   "source": [
    "best_value = 10**10\n",
    "best_magasin = None\n",
    "best_solution = None\n",
    "\n",
    "xtot, ytot = add_magasin(xm[0],ym[0], xm[1], ym[1],xc,yc)\n",
    "\n",
    "arcs = [(i,j) for i in V for j in V if ((i!=j) and (i,j) != (1,0) and (i,j) != (0,1))]\n",
    "dists = {(i,j): np.hypot(xtot[i]-xtot[j],ytot[i]-ytot[j]) for i,j in arcs}\n",
    "\n",
    "model2 = ModelInit2(arcs, capacité, demandes, dists, N)\n",
    "solution2 = solver(model2)\n",
    "value = solution2.objective_value\n",
    "print(f'La plus petite distance à parcourir est {value}' )"
   ]
  },
  {
   "cell_type": "code",
   "execution_count": 509,
   "id": "50bf88e1",
   "metadata": {},
   "outputs": [
    {
     "data": {
      "text/plain": [
       "\"best_value = 10**10\\nbest_magasin = None\\nbest_solution = None\\nfor magasin in range(nmagasins):\\n    xtot, ytot = add_magasin(xm[magasin],ym[magasin],xc,yc)\\n    arcs = [(i,j) for i in V for j in V if i!=j]\\n    distances = {(i,j): np.hypot(xtot[i]-xtot[j],ytot[i]-ytot[j]) for i,j in arcs}\\n    model = ModelInit(arcs, capacité, demandes, distances, N)\\n    solution = solver(model)\\n    value = solution.objective_value\\n    if value < best_value:\\n        best_value = value \\n        best_magasin = magasin\\n        best_solution = solution\\nprint(f'La plus petite distance à parcourir est {best_value}')\\nprint(f'Le numéro du meilleur emplacement pour le magasin est {best_magasin}')\""
      ]
     },
     "execution_count": 509,
     "metadata": {},
     "output_type": "execute_result"
    }
   ],
   "source": [
    "\"\"\"best_value = 10**10\n",
    "best_magasin = None\n",
    "best_solution = None\n",
    "for magasin in range(nmagasins):\n",
    "    xtot, ytot = add_magasin(xm[magasin],ym[magasin],xc,yc)\n",
    "    arcs = [(i,j) for i in V for j in V if i!=j]\n",
    "    distances = {(i,j): np.hypot(xtot[i]-xtot[j],ytot[i]-ytot[j]) for i,j in arcs}\n",
    "    model = ModelInit(arcs, capacité, demandes, distances, N)\n",
    "    solution = solver(model)\n",
    "    value = solution.objective_value\n",
    "    if value < best_value:\n",
    "        best_value = value \n",
    "        best_magasin = magasin\n",
    "        best_solution = solution\n",
    "print(f'La plus petite distance à parcourir est {best_value}')\n",
    "print(f'Le numéro du meilleur emplacement pour le magasin est {best_magasin}')\"\"\""
   ]
  },
  {
   "cell_type": "code",
   "execution_count": 510,
   "id": "5e6f2662",
   "metadata": {},
   "outputs": [],
   "source": [
    "arcs_actifs = []\n",
    "for val in (model2.iter_binary_vars()):\n",
    "    if val.solution_value > 0.95:\n",
    "        v = val.name.split('_')\n",
    "        arcs_actifs.append((int(v[1]),int(v[2])))"
   ]
  },
  {
   "cell_type": "code",
   "execution_count": 511,
   "id": "9083a4b1",
   "metadata": {},
   "outputs": [
    {
     "data": {
      "image/png": "[encoded data removed]",
      "text/plain": [
       "<Figure size 432x288 with 1 Axes>"
      ]
     },
     "metadata": {
      "needs_background": "light"
     },
     "output_type": "display_data"
    }
   ],
   "source": [
    "fig, ax = plt.subplots() \n",
    "ax.scatter(xc[2:],yc[2:]) # affichage des clients  \n",
    "for i in N:\n",
    "    plt.annotate(f' w={demandes[i]}', (xc[i], yc[i]))\n",
    "xc[0],yc[0],xc[1],yc[1] = xm[0],ym[0],xm[1],ym[1]\n",
    "for i,j in arcs_actifs:\n",
    "     plt.plot([xc[i], xc[j]], [yc[i], yc[j]], c='g', alpha=0.3)\n",
    "plt.plot(xm[0],ym[0], c='r', marker='s') # affichage du meilleur magasin\n",
    "plt.plot(xm[1],ym[1], c='r', marker='s') # affichage du meilleur magasin\n",
    "plt.show()"
   ]
  }
 ],
 "metadata": {
  "kernelspec": {
   "display_name": "Python 3 (ipykernel)",
   "language": "python",
   "name": "python3"
  },
  "language_info": {
   "codemirror_mode": {
    "name": "ipython",
    "version": 3
   },
   "file_extension": ".py",
   "mimetype": "text/x-python",
   "name": "python",
   "nbconvert_exporter": "python",
   "pygments_lexer": "ipython3",
   "version": "3.10.0"
  }
 },
 "nbformat": 4,
 "nbformat_minor": 5
}
