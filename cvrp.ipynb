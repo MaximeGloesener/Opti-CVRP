{
 "cells": [
  {
   "cell_type": "code",
   "execution_count": 74,
   "id": "cbea4958",
   "metadata": {},
   "outputs": [],
   "source": [
    "import random\n",
    "import matplotlib.pyplot as plt\n",
    "import numpy as np\n",
    "from docplex.mp.model import Model"
   ]
  },
  {
   "cell_type": "markdown",
   "id": "75d42e0c",
   "metadata": {},
   "source": [
    "Définition des paramètres"
   ]
  },
  {
   "cell_type": "code",
   "execution_count": 75,
   "id": "b7b67e44",
   "metadata": {},
   "outputs": [],
   "source": [
    "capacité = 80 # capacité de la camionnette du marchand de poisson\n",
    "nclients = 15 # nombre de clients \n",
    "nmagasins = 3 # nombre d'emplacements possibles pour les dépôts\n",
    "lbdemande = 5 # borne inférieure pour la quantité demandée par les clients\n",
    "ubdemande = 25 # borne supérieure pour la quantité demandée par les clients"
   ]
  },
  {
   "cell_type": "markdown",
   "id": "f30d3b94",
   "metadata": {},
   "source": [
    "Génération des données aléatoires"
   ]
  },
  {
   "cell_type": "code",
   "execution_count": 76,
   "id": "3596fe8c",
   "metadata": {},
   "outputs": [],
   "source": [
    "# fixer le seed du random pour toujours avoir les mêmes données \n",
    "random.seed(14)\n",
    "# numéro des clients  \n",
    "N = [int(i) for i in range(nmagasins, nclients+nmagasins)]\n",
    "# graphe V qui reprend les noeuds des emplacements + les noeuds des clients \n",
    "V = [i for i in range(nmagasins)] + N \n",
    "# génération aléatoire des quantités pour chaque client / dictionnaire : clé = numéro client, valeur = quantitié demandée \n",
    "demandes = {i:random.randint(lbdemande,ubdemande) for i in N}\n",
    "# génération des coordonnées aléatoires des clients  \n",
    "clients = [(random.randint(0,30),random.randint(0,30)) for _ in range(nclients)]\n",
    "# génération des coordonnées aléatoires des magasins \n",
    "magasins = [(random.randint(0,30), random.randint(0,30)) for _ in range(nmagasins)] "
   ]
  },
  {
   "cell_type": "markdown",
   "id": "e88bf51b",
   "metadata": {},
   "source": [
    "Affichage des clients avec la quantité demandée et des emplacements possibles des dépôts"
   ]
  },
  {
   "cell_type": "code",
   "execution_count": 77,
   "id": "66c65ff7",
   "metadata": {},
   "outputs": [
    {
     "data": {
      "image/png": "[encoded data removed]",
      "text/plain": [
       "<Figure size 432x288 with 1 Axes>"
      ]
     },
     "metadata": {
      "needs_background": "light"
     },
     "output_type": "display_data"
    }
   ],
   "source": [
    "fig, ax = plt.subplots()\n",
    "# clients axe x et axe y\n",
    "xclients, yclients = [client[0] for client in clients], [client[1] for client in clients]\n",
    "# magasin axe x et axe y\n",
    "xmagasins, ymagasins = [magasin[0] for magasin in magasins], [magasin[1] for magasin in magasins]\n",
    "ax.scatter(xclients, yclients) \n",
    "ax.scatter(xmagasins, ymagasins)\n",
    "for i, q in enumerate(demandes.values()):\n",
    "    ax.annotate(f' c{i+nmagasins+1} = {q}', (xclients[i],yclients[i]))\n",
    "for i in range(nmagasins):\n",
    "    ax.annotate(f'm{i}', (xmagasins[i],ymagasins[i]))\n",
    "plt.show()"
   ]
  },
  {
   "cell_type": "markdown",
   "id": "c34de49b",
   "metadata": {},
   "source": [
    "Définition du modèle"
   ]
  },
  {
   "cell_type": "code",
   "execution_count": 78,
   "id": "ee829147",
   "metadata": {},
   "outputs": [],
   "source": [
    "def ModelInit(arcs, capacité, demandes, distances, N, nmagasins):\n",
    "    model = Model('CVRP')\n",
    "    x = model.binary_var_dict(arcs, name = 'x') # variable binaire pour les arcs -> 0 ou 1 en fonction de si on le prend ou pas\n",
    "    u = model.continuous_var_dict(N, ub = capacité, name = 'u') # ub = upperbound = capacité camionnette\n",
    "    model.minimize(model.sum(distances[i,j]*x[i,j] for i,j in arcs)) # fct objectif = minimiser la distance entre les arcs qui sont pris\n",
    "    model.add_constraints(model.sum(x[i,j] for j in V if j!=i) == 1 for i in N) # graphe connexe, tous les arcs doivent être liés\n",
    "    model.add_constraints(model.sum(x[i,j] for i in V if i!=j) == 1 for j in N)\n",
    "    model.add_indicator_constraints(model.indicator_constraint(x[i, j], u[i]+demandes[j] == u[j]) for i, j in arcs if (i not in range(nmagasins) and j not in range(nmagasins)))\n",
    "    model.add_constraints(u[i] >= demandes[i] for i in N)\n",
    "    # model.parameters.timelimit = 60\n",
    "    return model\n",
    "  "
   ]
  },
  {
   "cell_type": "code",
   "execution_count": 79,
   "id": "2cd711a0",
   "metadata": {},
   "outputs": [],
   "source": [
    "def solver(model):\n",
    "    return model.solve(log_output = False)"
   ]
  },
  {
   "cell_type": "markdown",
   "id": "43130b5f",
   "metadata": {},
   "source": [
    "Définition des arcs d'un noeud i à un noeud j et calcul de distance pour chaque arc"
   ]
  },
  {
   "cell_type": "code",
   "execution_count": 80,
   "id": "cb30e4e6",
   "metadata": {},
   "outputs": [],
   "source": [
    "best_value = 10**10\n",
    "best_magasin = None\n",
    "best_solution = None\n",
    "\n",
    "# coordonnées x et y des clients et magasins \n",
    "xtot, ytot = xmagasins + xclients, ymagasins + yclients\n",
    "\n",
    "# initialisation des arcs du graphe -> on veut éviter d'avoir un arc d'un noeud vers lui même (i != j) et d'un dépôt vers un autre dépôt\n",
    "arcs = [(i,j) for i in V for j in V if (i not in range(nmagasins) or j not in range(nmagasins) and i != j)]\n",
    "\n",
    "# calcul des distances entre les clients et les magasins -> pour chaque arc, on obtient une distance euclidienne\n",
    "dists = {(i,j): np.hypot(xtot[i]-xtot[j],ytot[i]-ytot[j]) for i,j in arcs}\n",
    "\n",
    "model = ModelInit(arcs, capacité, demandes, dists, N, nmagasins)\n",
    "solution = solver(model)\n",
    "value = solution.objective_value\n",
    "print(f'La plus petite distance à parcourir est {value}')"
   ]
  },
  {
   "cell_type": "code",
   "execution_count": null,
   "id": "9f25f0da",
   "metadata": {},
   "outputs": [
    {
     "data": {
      "text/plain": [
       "\"best_value = 10**10\\nbest_magasin = None\\nbest_solution = None\\nfor magasin in range(nmagasins):\\n    xtot, ytot = add_magasin(xm[magasin],ym[magasin],xc,yc)\\n    arcs = [(i,j) for i in V for j in V if i!=j]\\n    distances = {(i,j): np.hypot(xtot[i]-xtot[j],ytot[i]-ytot[j]) for i,j in arcs}\\n    model = ModelInit(arcs, capacité, demandes, distances, N)\\n    solution = solver(model)\\n    value = solution.objective_value\\n    if value < best_value:\\n        best_value = value \\n        best_magasin = magasin\\n        best_solution = solution\\nprint(f'La plus petite distance à parcourir est {best_value}')\\nprint(f'Le numéro du meilleur emplacement pour le magasin est {best_magasin}')\""
      ]
     },
     "execution_count": 71,
     "metadata": {},
     "output_type": "execute_result"
    }
   ],
   "source": [
    "\"\"\"best_value = 10**10\n",
    "best_magasin = None\n",
    "best_solution = None\n",
    "for magasin in range(nmagasins):\n",
    "    xtot, ytot = add_magasin(xm[magasin],ym[magasin],xc,yc)\n",
    "    arcs = [(i,j) for i in V for j in V if i!=j]\n",
    "    distances = {(i,j): np.hypot(xtot[i]-xtot[j],ytot[i]-ytot[j]) for i,j in arcs}\n",
    "    model = ModelInit(arcs, capacité, demandes, distances, N)\n",
    "    solution = solver(model)\n",
    "    value = solution.objective_value\n",
    "    if value < best_value:\n",
    "        best_value = value \n",
    "        best_magasin = magasin\n",
    "        best_solution = solution\n",
    "print(f'La plus petite distance à parcourir est {best_value}')\n",
    "print(f'Le numéro du meilleur emplacement pour le magasin est {best_magasin}')\"\"\""
   ]
  },
  {
   "cell_type": "code",
   "execution_count": null,
   "id": "6691a2fd",
   "metadata": {},
   "outputs": [],
   "source": [
    "# identification des arcs actifs pour l'affichage\n",
    "arcs_actifs = []\n",
    "for val in (model.iter_binary_vars()):\n",
    "    if val.solution_value > 0.95:\n",
    "        v = val.name.split('_')\n",
    "        arcs_actifs.append((int(v[1]), int(v[2])))"
   ]
  },
  {
   "cell_type": "code",
   "execution_count": null,
   "id": "c0867fbe",
   "metadata": {},
   "outputs": [
    {
     "data": {
      "image/png": "[encoded data removed]",
      "text/plain": [
       "<Figure size 432x288 with 1 Axes>"
      ]
     },
     "metadata": {
      "needs_background": "light"
     },
     "output_type": "display_data"
    }
   ],
   "source": [
    "fig, ax = plt.subplots() \n",
    "# affichage des clients \n",
    "ax.scatter(xclients, yclients) \n",
    "for i in N:\n",
    "    plt.annotate(f' w={demandes[i]}', (xtot[i], ytot[i]))\n",
    "\n",
    "# affichage des magasins \n",
    "for i in range(nmagasins):\n",
    "    plt.plot(xmagasins[i],ymagasins[i], c='r', marker='s') # affichage des magasins\n",
    "\n",
    "# affichage des arcs actifs\n",
    "for i,j in arcs_actifs:\n",
    "    plt.plot([xtot[i], xtot[j]], [ytot[i], ytot[j]], c='g', alpha=0.4)\n",
    "plt.show()"
   ]
  }
 ],
 "metadata": {
  "kernelspec": {
   "display_name": "Python 3.9.1 64-bit",
   "language": "python",
   "name": "python3"
  },
  "language_info": {
   "codemirror_mode": {
    "name": "ipython",
    "version": 3
   },
   "file_extension": ".py",
   "mimetype": "text/x-python",
   "name": "python",
   "nbconvert_exporter": "python",
   "pygments_lexer": "ipython3",
   "version": "3.9.1"
  },
  "vscode": {
   "interpreter": {
    "hash": "124860c735baad30d0d0699d1d1002dff43b098acb5cf5aad4b313f34f566040"
   }
  }
 },
 "nbformat": 4,
 "nbformat_minor": 5
}
