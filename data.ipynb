{
 "cells": [
  {
   "cell_type": "code",
   "execution_count": 50,
   "id": "14cddb9a",
   "metadata": {},
   "outputs": [],
   "source": [
    "import random\n",
    "import matplotlib.pyplot as plt"
   ]
  },
  {
   "cell_type": "code",
   "execution_count": 51,
   "id": "69f706ab",
   "metadata": {},
   "outputs": [],
   "source": [
    "clients = [(random.randint(0,50),random.randint(0,50)) for _ in range(35)]\n",
    "magasins = [(random.randint(0,50), random.randint(0,50)) for _ in range(5)]"
   ]
  },
  {
   "cell_type": "code",
   "execution_count": 52,
   "id": "fe0fa9cb",
   "metadata": {},
   "outputs": [],
   "source": [
    "xc = [d[0] for d in clients]\n",
    "yc = [d[1] for d in clients]\n",
    "xm = [d[0] for d in magasins]\n",
    "ym = [d[1] for d in magasins]"
   ]
  },
  {
   "cell_type": "code",
   "execution_count": 53,
   "id": "4fd90e23",
   "metadata": {},
   "outputs": [
    {
     "data": {
      "image/png": "[encoded data removed]",
      "text/plain": [
       "<Figure size 432x288 with 1 Axes>"
      ]
     },
     "metadata": {
      "needs_background": "light"
     },
     "output_type": "display_data"
    }
   ],
   "source": [
    "plt.scatter(xc,yc)\n",
    "plt.scatter(xm,ym)\n",
    "plt.show()"
   ]
  },
  {
   "cell_type": "code",
   "execution_count": null,
   "id": "a18ffd7e",
   "metadata": {},
   "outputs": [],
   "source": []
  }
 ],
 "metadata": {
  "kernelspec": {
   "display_name": "Python 3",
   "language": "python",
   "name": "python3"
  },
  "language_info": {
   "codemirror_mode": {
    "name": "ipython",
    "version": 3
   },
   "file_extension": ".py",
   "mimetype": "text/x-python",
   "name": "python",
   "nbconvert_exporter": "python",
   "pygments_lexer": "ipython3",
   "version": "3.8.8"
  }
 },
 "nbformat": 4,
 "nbformat_minor": 5
}
