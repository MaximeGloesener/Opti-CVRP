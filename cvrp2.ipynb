{
 "cells": [
  {
   "cell_type": "code",
   "execution_count": 164,
   "metadata": {},
   "outputs": [],
   "source": [
    "import random\n",
    "import matplotlib.pyplot as plt\n",
    "import numpy as np\n",
    "try:\n",
    "    from docplex.mp.model import Model\n",
    "except:\n",
    "    raise Exception('Installez docplex !pip install docplex')\n",
    "from scipy.spatial import distance"
   ]
  },
  {
   "cell_type": "code",
   "execution_count": 165,
   "metadata": {},
   "outputs": [],
   "source": [
    "capacité = 50 # capacité de la camionnette du marchand de poisson\n",
    "nclients = 6 # nombre de clients \n",
    "nmagasins = 2 # nombre d'emplacements possibles pour les dépôts\n",
    "lbdemande = 5 # borne inférieure pour la quantité demandée par les clients\n",
    "ubdemande = 25 # borne supérieure pour la quantité demandée par les clients"
   ]
  },
  {
   "cell_type": "code",
   "execution_count": 166,
   "metadata": {},
   "outputs": [],
   "source": [
    "# fixer le seed du random pour toujours avoir les mêmes données \n",
    "random.seed(17)\n",
    "# génération des coordonnées aléatoires des clients  \n",
    "clients = [(random.randint(0,30),random.randint(0,30)) for _ in range(nclients)]\n",
    "# génération des coordonnées aléatoires des magasins \n",
    "magasins = [(random.randint(0,30), random.randint(0,30)) for _ in range(nmagasins)] "
   ]
  },
  {
   "cell_type": "code",
   "execution_count": 167,
   "metadata": {},
   "outputs": [
    {
     "data": {
      "image/png": "[encoded data removed]",
      "text/plain": [
       "<Figure size 864x576 with 1 Axes>"
      ]
     },
     "metadata": {
      "needs_background": "light"
     },
     "output_type": "display_data"
    }
   ],
   "source": [
    "fig, ax = plt.subplots(figsize = (12,8))\n",
    "# clients axe x et axe y\n",
    "xclients, yclients = [client[0] for client in clients], [client[1] for client in clients]\n",
    "# magasin axe x et axe y\n",
    "xmagasins, ymagasins = [magasin[0] for magasin in magasins], [magasin[1] for magasin in magasins]\n",
    "ax.scatter(xclients, yclients) \n",
    "ax.scatter(xmagasins, ymagasins)\n",
    "for i in range(nmagasins):\n",
    "    ax.annotate(f'm{i}', (xmagasins[i],ymagasins[i]))\n",
    "plt.show()"
   ]
  },
  {
   "cell_type": "code",
   "execution_count": 168,
   "metadata": {},
   "outputs": [],
   "source": [
    "def ModelInit(arcs, capacité, demandes, distances, N, magasins):\n",
    "    model = Model('CVRP')\n",
    "    x = model.binary_var_dict(arcs, name = 'x') # variable binaire pour les arcs -> 0 ou 1 en fonction de si on le prend ou pas\n",
    "    u = model.continuous_var_dict(N, ub = capacité, name = 'u') # ub = upperbound = capacité camionnette\n",
    "    model.minimize(model.sum(distances[i,j]*x[i,j] for i,j in arcs)) # fct objectif = minimiser la distance entre les arcs qui sont pris\n",
    "    model.add_constraints(model.sum(x[i,j] for j in V if j!=i) == 1 for i in N) # graphe connexe, tous les arcs doivent être liés\n",
    "    model.add_constraints(model.sum(x[i,j] for i in V if i!=j) == 1 for j in N)\n",
    "    model.add_indicator_constraints(model.indicator_constraint(x[i, j], u[i]+demandes[j] == u[j]) for i, j in arcs if ((i not in (magasins)) and (j not in (magasins))))\n",
    "    model.add_constraints(u[i] >= demandes[i] for i in N)\n",
    "    # model.parameters.timelimit = 60\n",
    "    return model\n",
    "  "
   ]
  },
  {
   "cell_type": "code",
   "execution_count": 169,
   "metadata": {},
   "outputs": [],
   "source": [
    "def solver(model):\n",
    "    return model.solve(clean_before_solve=True, log_output = False)"
   ]
  },
  {
   "cell_type": "code",
   "execution_count": 170,
   "metadata": {},
   "outputs": [
    {
     "name": "stdout",
     "output_type": "stream",
     "text": [
      "75.62200596082322\n",
      "137.13582512242732\n",
      "73.42877312892011\n",
      "La plus petite distance à parcourir est 73.42877312892011\n",
      "Le numéro du meilleur emplacement pour le magasin est [0, 1]\n"
     ]
    }
   ],
   "source": [
    "import itertools\n",
    "\n",
    "# On veut chercher le meilleur chemin avec n magasins, il suffit de résoudre le problème indépendamment \n",
    "best_value = 10**10\n",
    "best_magasin = None\n",
    "best_solution = None\n",
    "\n",
    "# Comme il suffit de calculer indépemment chaque sous problème et de garder le meilleur, on peut\n",
    "# pré-calculer toutes les combinaisons possibles de magasins et tester avec chaque combinaison pour\n",
    "# voir combien de dépôts il faut idéalement \n",
    "combi = set()\n",
    "for k in range(1,nmagasins+1):\n",
    "    for j in itertools.combinations(list(range(nmagasins)),k):\n",
    "        combi.add(j)\n",
    "\n",
    "\n",
    "for c in (combi):\n",
    "    # Magasins testés pour cette itération \n",
    "    magasins = list(c)\n",
    "    # Clients\n",
    "    N = [int(i) for i in range(c[-1]+1, nclients+c[-1]+1)]\n",
    "    # Définition du graphe\n",
    "    V = magasins + N\n",
    "    # Demandes\n",
    "    demandes = {i:random.randint(lbdemande,ubdemande) for i in N}\n",
    "    # Axe x et y pour les magasins + les clients\n",
    "    xtot, ytot = dict({str(x): xmagasins[x] for x in magasins},**{str(y):x for x,y in zip(xclients, N)}), dict({str(x): ymagasins[x] for x in magasins},**{str(y):x for x,y in zip(yclients, N)})\n",
    "    # Arcs du graphe \n",
    "    arcs = [(i,j) for i in V for j in V if ((i not in magasins or j not in magasins) and i != j)]\n",
    "    # Calcul des distances entre les noeuds du graphe\n",
    "    dists = {(i,j): np.hypot(xtot[str(i)]-xtot[str(j)],ytot[str(i)]-ytot[str(j)]) for i,j in arcs}\n",
    "    # Initialisation du modèle\n",
    "    model = ModelInit(arcs, capacité, demandes, dists, N, magasins)\n",
    "    # Lancement du solver\n",
    "    solution = solver(model)\n",
    "    value = solution.objective_value\n",
    "    if value < best_value:\n",
    "        best_value = value \n",
    "        best_magasin = list(c)\n",
    "        best_solution = solution\n",
    "    model.clear()\n",
    "print(f'La plus petite distance à parcourir est {best_value}')\n",
    "print(f'Le numéro du meilleur emplacement pour le magasin est {best_magasin}')"
   ]
  }
 ],
 "metadata": {
  "kernelspec": {
   "display_name": "Python 3.9.1 64-bit",
   "language": "python",
   "name": "python3"
  },
  "language_info": {
   "codemirror_mode": {
    "name": "ipython",
    "version": 3
   },
   "file_extension": ".py",
   "mimetype": "text/x-python",
   "name": "python",
   "nbconvert_exporter": "python",
   "pygments_lexer": "ipython3",
   "version": "3.9.1"
  },
  "orig_nbformat": 4,
  "vscode": {
   "interpreter": {
    "hash": "124860c735baad30d0d0699d1d1002dff43b098acb5cf5aad4b313f34f566040"
   }
  }
 },
 "nbformat": 4,
 "nbformat_minor": 2
}
